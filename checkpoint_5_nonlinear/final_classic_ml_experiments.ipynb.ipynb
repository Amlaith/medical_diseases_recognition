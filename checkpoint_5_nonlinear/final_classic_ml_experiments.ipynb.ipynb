{
 "cells": [
  {
   "cell_type": "markdown",
   "metadata": {},
   "source": [
    "# **Final Experiments about Classic ML**\n",
    "\n",
    "**Содержимое ноутбука:**\n",
    "\n",
    "* Этот ноутбук содержит окончательные эксперименты по нелинейным моделям классическго машинного обучения\n",
    "* Итоговый пайплайн в другом месте\n",
    "\n",
    "\n",
    "**Мотивация:**\n",
    "* Закрыть чекпоинт, проведя эксперименты с нелинейными моделями классическго ML\n",
    "* Свести эксперименты с коллегами более однозначно\n",
    "* Провести новые эксперименты по новым алгоритмам, которые не были проведены раньше\n"
   ]
  },
  {
   "cell_type": "markdown",
   "metadata": {},
   "source": [
    "**В прошлых чекпоинтах** мы показали показали, что\n",
    "* Снижение размерности посредством **Спектрального разложения(SVD)** - наилучший способ предподготовки данных, при несложных моделях. Сложилось стойкое ощущение, что другие способы предобработки выдают \"слишком много информации\", и обучающая способность моделей не может справиться с \"обилием\" информации.\n",
    "* Можно построить эффективные MVP только при помощи **линейных моделей**. Да, линейных.\n",
    "* Нелинейные модели классического ml, выдают лучшее качество, чем линейные.\n",
    "\n"
   ]
  },
  {
   "cell_type": "markdown",
   "metadata": {},
   "source": [
    "**Выборки**\n",
    "\n",
    "Мы с коллегами, пользуясь интуицией, по-разному брали выборки для обучения.\n",
    "* Первый вариант: брать `репрезентативные выборки`\n",
    "* Второй вариант: брыть `одинаковые доли классов`\n",
    "\n",
    "Текущие размышления:\n",
    "* Оказалось, что **нет универсального ответа. Решение подбирается под задачу**.\n",
    "* Оба варианта адекватны и имеют свои преимущества.\n",
    "* Есть ещё опции. Они все отражают одну из двух идей:\n",
    "    * надо естесвенным образом брать данные репрезентативно\n",
    "    * надо искусственно выравнивать дисбаланс классов\n",
    "\n",
    "\n",
    "**Давайте проводить эксперименты**"
   ]
  },
  {
   "cell_type": "code",
   "execution_count": 1,
   "metadata": {},
   "outputs": [],
   "source": [
    "# !pip install gdown -q"
   ]
  },
  {
   "cell_type": "code",
   "execution_count": 2,
   "metadata": {},
   "outputs": [],
   "source": [
    "DATA_FOLDER = \"data/\""
   ]
  },
  {
   "cell_type": "code",
   "execution_count": 3,
   "metadata": {},
   "outputs": [],
   "source": [
    "# import gdown\n",
    "\n",
    "# url = 'https://drive.google.com/uc?id=1MOjORo11C6A2FbXHkWxSbL-iB237Y_Zf'\n",
    "# save_name = DATA_FOLDER + 'data_DEC24_SVD_128_5000.csv'\n",
    "# gdown.download(url, save_name, quiet=False)\n",
    "\n",
    "# url = 'https://drive.google.com/uc?id=18nNEnray3VFNhnySeRaJ6fSmOAiQ3Efp'\n",
    "# save_name = DATA_FOLDER + 'data_FEB25_SVD_eq_sample_128_5000.csv'\n",
    "# gdown.download(url, save_name, quiet=False)"
   ]
  },
  {
   "cell_type": "code",
   "execution_count": 4,
   "metadata": {},
   "outputs": [],
   "source": [
    "import numpy as np\n",
    "import pandas as pd\n",
    "import matplotlib.pyplot as plt \n",
    "import seaborn as sns\n",
    "\n",
    "np.random.seed(691)\n",
    "random_state = 326"
   ]
  },
  {
   "cell_type": "code",
   "execution_count": 5,
   "metadata": {},
   "outputs": [],
   "source": [
    "from sklearn.model_selection import train_test_split\n",
    "\n",
    "from sklearn.preprocessing import MinMaxScaler\n",
    "from sklearn.ensemble import RandomForestClassifier\n",
    "from sklearn.svm import SVC\n",
    "\n",
    "from sklearn.pipeline import Pipeline\n",
    "from sklearn.model_selection import GridSearchCV\n",
    "from sklearn.metrics import ConfusionMatrixDisplay\n",
    "\n",
    "from typing import List"
   ]
  },
  {
   "cell_type": "markdown",
   "metadata": {},
   "source": [
    "### Common Functions"
   ]
  },
  {
   "cell_type": "code",
   "execution_count": 6,
   "metadata": {},
   "outputs": [],
   "source": [
    "from sklearn.metrics import balanced_accuracy_score, f1_score, roc_auc_score\n",
    "from sklearn.preprocessing import label_binarize\n",
    "from typing import Tuple\n",
    "\n",
    "def get_metrics(y_pred, y_true, rounding=8, verbouse=True, returns=False) -> Tuple:\n",
    "    \"\"\"Print/Return all metrics by predictions and true values\"\"\" \n",
    "\n",
    "    if returns == True:\n",
    "        verbouse = False\n",
    "\n",
    "    acc = np.round(balanced_accuracy_score(y_pred, y_true), rounding)\n",
    "    f1 = np.round(f1_score(y_pred, y_true, average=\"weighted\"), rounding)\n",
    "    \n",
    "    y_true_binarized = label_binarize(y_true, classes=[0, 1, 2])\n",
    "    y_pred_binarized = label_binarize(y_pred, classes=[0, 1, 2])\n",
    "\n",
    "    # Расчет ROC-AUC для многоклассовой задачи\n",
    "    auc_score = roc_auc_score(y_true_binarized, y_pred_binarized,\n",
    "                            multi_class='ovr', average=None)\n",
    "\n",
    "    roc_auc_metric = y.value_counts(sort=False, normalize=True) @ auc_score[::-1]\n",
    "    roc_auc_metric = np.round(roc_auc_metric, rounding)\n",
    "    gini = 2 * roc_auc_metric - 1\n",
    "    gini = np.round(gini, rounding)\n",
    "\n",
    "    if verbouse:\n",
    "        print(f\"Balanced accuracy: {acc}\")\n",
    "        print(f\"F1-score: {f1}\")\n",
    "        print(f\"roc_auc_score: {roc_auc_metric}\")\n",
    "        print(f\"gini_score:{gini}\")\n",
    "\n",
    "    if returns:\n",
    "        return acc, f1, roc_auc_metric, gini\n",
    "    "
   ]
  },
  {
   "cell_type": "code",
   "execution_count": 7,
   "metadata": {},
   "outputs": [],
   "source": [
    "def plot_confusion_matrixes(model1, model2, X_test, y_test):\n",
    "    fig, ax = plt.subplots(1, 2, figsize=(14, 4))\n",
    "\n",
    "    LABELS = [\"Pneumonia\", \"Other\", \"Normal\"]\n",
    "    CMAP = sns.cubehelix_palette(start=.5, rot=-.75, as_cmap=True)\n",
    "\n",
    "    ax[0].set_title(\"SVM rbf kernel\")\n",
    "    ax[1].set_title(\"Random Forest\")\n",
    "\n",
    "    disp_1 = ConfusionMatrixDisplay.from_estimator(model1, X_test, y_test, display_labels=LABELS, cmap=CMAP, normalize=\"true\", ax=ax[0])\n",
    "    disp_1.im_.set_clim(0, 1)\n",
    "    disp_2 = ConfusionMatrixDisplay.from_estimator(model2, X_test, y_test, display_labels=LABELS, cmap=CMAP, normalize=\"true\", ax=ax[1]);\n",
    "    disp_2.im_.set_clim(0, 1)"
   ]
  },
  {
   "cell_type": "markdown",
   "metadata": {},
   "source": [
    "### Set Save Results"
   ]
  },
  {
   "cell_type": "code",
   "execution_count": 8,
   "metadata": {},
   "outputs": [],
   "source": [
    "# всегда берём 20% в тест\n",
    "# 5001 - это тоже 5000\n",
    "cols = [\"model_name\", \"params\", \"sample_size\", \"sample_method\", \"balanced_accuracy\", \"f1-score\", \"roc_auc\", \"gini\"]\n",
    "exp_logs = pd.DataFrame(columns=cols)\n",
    "\n",
    "SAMPLE_SIZE = 5000"
   ]
  },
  {
   "cell_type": "code",
   "execution_count": 9,
   "metadata": {},
   "outputs": [],
   "source": [
    "def add_new_exp(log_storage: pd.DataFrame, new_row: List):\n",
    "    \"\"\"Add new row to experiments loggs from list\"\"\"\n",
    "    cols = [\n",
    "        \"model_name\", \"params\", \"sample_size\", \"sample_method\", \n",
    "        \"balanced_accuracy\", \"f1-score\", \"roc_auc\", \"gini\"\n",
    "    ]\n",
    "\n",
    "    new_exp = pd.DataFrame(new_row).T\n",
    "    new_exp.columns=cols\n",
    "    \n",
    "    log_storage = pd.concat([log_storage, new_exp], ignore_index=True)\n",
    "    return log_storage"
   ]
  },
  {
   "cell_type": "markdown",
   "metadata": {},
   "source": [
    "## Подход репрезентативной выборки"
   ]
  },
  {
   "cell_type": "code",
   "execution_count": 10,
   "metadata": {},
   "outputs": [],
   "source": [
    "df_images = pd.read_csv(DATA_FOLDER + \"data_DEC24_SVD_128_5000.csv\")"
   ]
  },
  {
   "cell_type": "code",
   "execution_count": 11,
   "metadata": {},
   "outputs": [],
   "source": [
    "X, y = df_images.drop(columns=\"class\"), df_images[\"class\"]\n",
    "SAMPLE_METHOD = \"representative\""
   ]
  },
  {
   "cell_type": "markdown",
   "metadata": {},
   "source": [
    "We have 3 classes:\n",
    "\n",
    "\n",
    "|Label|Text Label|Desc|Has Bounding Box|\n",
    "|:-|:-|:-|:-|\n",
    "|0|Lung Opacity|Есть затемнение в лёгких, есть bounding box|Yes|\n",
    "|1|No Lung Opacity / Not Normal|Нет затемнения в лёгких, нет bounding box, но есть патология|No|\n",
    "|2|Normal|Здоровые лёгкие|No|"
   ]
  },
  {
   "cell_type": "code",
   "execution_count": 12,
   "metadata": {},
   "outputs": [
    {
     "data": {
      "image/png": "[encoded data removed]",
      "text/plain": [
       "<Figure size 500x300 with 1 Axes>"
      ]
     },
     "metadata": {},
     "output_type": "display_data"
    }
   ],
   "source": [
    "plt.figure(figsize = (5, 3))\n",
    "sns.countplot(x=y, hue=y, legend=False, palette='crest', width=0.4)\n",
    "plt.title(\"Расределение классов\")\n",
    "plt.ylabel(\"Кол-во\");"
   ]
  },
  {
   "cell_type": "code",
   "execution_count": 13,
   "metadata": {},
   "outputs": [
    {
     "data": {
      "text/plain": [
       "class\n",
       "2    0.3408\n",
       "1    0.4382\n",
       "0    0.2210\n",
       "Name: proportion, dtype: float64"
      ]
     },
     "execution_count": 13,
     "metadata": {},
     "output_type": "execute_result"
    }
   ],
   "source": [
    "y.value_counts(sort=False, normalize=True)"
   ]
  },
  {
   "cell_type": "markdown",
   "metadata": {},
   "source": [
    "### Models\n",
    "Наилучшее качество среди классческих **испробованных** моделей покажет `SVC(kernel=\"rbf\")` или `RandomForestClassifier`\n",
    "\n",
    "Note: kernel=\"rbf\" - это в данном контексте не гиперпараметр"
   ]
  },
  {
   "cell_type": "code",
   "execution_count": 15,
   "metadata": {},
   "outputs": [],
   "source": [
    "X_train, X_test, y_train, y_test = train_test_split(X, y, test_size=0.2, random_state=random_state, stratify=y)"
   ]
  },
  {
   "cell_type": "code",
   "execution_count": 16,
   "metadata": {},
   "outputs": [],
   "source": [
    "NonLinearSVC = Pipeline([\n",
    "    ('scaler', MinMaxScaler()),\n",
    "    ('clf', SVC(kernel = 'rbf', random_state=random_state))\n",
    "])\n",
    "\n",
    "NonLinearSVC.fit(X_train, y_train)\n",
    "\n",
    "y_pred_SVC = NonLinearSVC.predict(X_test)"
   ]
  },
  {
   "cell_type": "code",
   "execution_count": 17,
   "metadata": {},
   "outputs": [],
   "source": [
    "new_row = [\"NonLinearSVC\", \"kernel = 'rbf'\", SAMPLE_SIZE, SAMPLE_METHOD, *get_metrics(y_pred_SVC, y_test, returns=True)]\n",
    "exp_logs = add_new_exp(exp_logs, new_row)"
   ]
  },
  {
   "cell_type": "code",
   "execution_count": 18,
   "metadata": {},
   "outputs": [],
   "source": [
    "rfc = Pipeline([\n",
    "    ('scaler', MinMaxScaler()),\n",
    "    ('clf', RandomForestClassifier(random_state=random_state))\n",
    "])\n",
    "\n",
    "rfc.fit(X_train, y_train)\n",
    "\n",
    "y_pred_RFC = rfc.predict(X_test)"
   ]
  },
  {
   "cell_type": "code",
   "execution_count": 19,
   "metadata": {},
   "outputs": [],
   "source": [
    "new_row = [\"Random Forest\", \"\", SAMPLE_SIZE, SAMPLE_METHOD, *get_metrics(y_pred_RFC, y_test, returns=True)]\n",
    "exp_logs = add_new_exp(exp_logs, new_row)"
   ]
  },
  {
   "cell_type": "markdown",
   "metadata": {},
   "source": [
    "### Compare models"
   ]
  },
  {
   "cell_type": "code",
   "execution_count": 20,
   "metadata": {},
   "outputs": [
    {
     "data": {
      "text/html": [
       "<div>\n",
       "<style scoped>\n",
       "    .dataframe tbody tr th:only-of-type {\n",
       "        vertical-align: middle;\n",
       "    }\n",
       "\n",
       "    .dataframe tbody tr th {\n",
       "        vertical-align: top;\n",
       "    }\n",
       "\n",
       "    .dataframe thead th {\n",
       "        text-align: right;\n",
       "    }\n",
       "</style>\n",
       "<table border=\"1\" class=\"dataframe\">\n",
       "  <thead>\n",
       "    <tr style=\"text-align: right;\">\n",
       "      <th></th>\n",
       "      <th>model_name</th>\n",
       "      <th>params</th>\n",
       "      <th>sample_size</th>\n",
       "      <th>sample_method</th>\n",
       "      <th>balanced_accuracy</th>\n",
       "      <th>f1-score</th>\n",
       "      <th>roc_auc</th>\n",
       "      <th>gini</th>\n",
       "    </tr>\n",
       "  </thead>\n",
       "  <tbody>\n",
       "    <tr>\n",
       "      <th>0</th>\n",
       "      <td>NonLinearSVC</td>\n",
       "      <td>kernel = 'rbf'</td>\n",
       "      <td>5000</td>\n",
       "      <td>representative</td>\n",
       "      <td>0.621884</td>\n",
       "      <td>0.61835</td>\n",
       "      <td>0.676605</td>\n",
       "      <td>0.353211</td>\n",
       "    </tr>\n",
       "    <tr>\n",
       "      <th>1</th>\n",
       "      <td>Random Forest</td>\n",
       "      <td></td>\n",
       "      <td>5000</td>\n",
       "      <td>representative</td>\n",
       "      <td>0.561821</td>\n",
       "      <td>0.567647</td>\n",
       "      <td>0.610826</td>\n",
       "      <td>0.221651</td>\n",
       "    </tr>\n",
       "  </tbody>\n",
       "</table>\n",
       "</div>"
      ],
      "text/plain": [
       "      model_name          params sample_size   sample_method  \\\n",
       "0   NonLinearSVC  kernel = 'rbf'        5000  representative   \n",
       "1  Random Forest                        5000  representative   \n",
       "\n",
       "  balanced_accuracy  f1-score   roc_auc      gini  \n",
       "0          0.621884   0.61835  0.676605  0.353211  \n",
       "1          0.561821  0.567647  0.610826  0.221651  "
      ]
     },
     "execution_count": 20,
     "metadata": {},
     "output_type": "execute_result"
    }
   ],
   "source": [
    "exp_logs"
   ]
  },
  {
   "cell_type": "code",
   "execution_count": 21,
   "metadata": {},
   "outputs": [
    {
     "data": {
      "image/png": "[encoded data removed]",
      "text/plain": [
       "<Figure size 1400x400 with 4 Axes>"
      ]
     },
     "metadata": {},
     "output_type": "display_data"
    }
   ],
   "source": [
    "plot_confusion_matrixes(NonLinearSVC, rfc, X_test, y_test)"
   ]
  },
  {
   "cell_type": "markdown",
   "metadata": {},
   "source": [
    "Как интерпретировать 1 ячейку: **33% наблюдений с пневмонией был отнесён к классу пневмония**\n",
    "\n",
    "#### Прикладные выводы\n",
    "\n",
    "Как интерпретировать матрицу ошибок:\n",
    "* по строкам в сумме получается 1.\n",
    "* Правильная работа модели означает более яркую диагональ\n",
    "* Обе модели плохо идентифицирует наличие пневмонии\n",
    "\n",
    "#### Новые концептуальные выводы\n",
    "* Без подбора параметров SVM('rbf') справляется лучше, чем случайный лес.\n",
    "\n",
    "\n",
    "#### Возникшие гипотезы\n",
    "* Если подбирать параметры в случайном лесу, может станет лучше, качество будет выше метода опорных векторов. В прошлых чекпоинтах подбирать параметры для опроных мекторов было относительно бесполезно"
   ]
  },
  {
   "cell_type": "markdown",
   "metadata": {},
   "source": [
    "## **Модели с подбором параметров**\n",
    "\n",
    "Репрезентативная выборка + Подбор параметров\n",
    "\n",
    "`[TO DO]`\n",
    "\n",
    "`Скорее всего получится, что прирост не большой`\n",
    "\n",
    "`Скорее всего получится, что RF будет немного лучше`\n",
    "\n",
    "`ядро rbf гарантированно для SVM лучше подходит, уже проверяли`"
   ]
  },
  {
   "cell_type": "markdown",
   "metadata": {},
   "source": [
    "[] подумай какаие параметры можно взять\n",
    "\n",
    "[] параметры к двум моделям\n",
    "\n",
    "[] сравнить 2 лучшие модели"
   ]
  },
  {
   "cell_type": "code",
   "execution_count": null,
   "metadata": {},
   "outputs": [],
   "source": [
    "df_images = pd.read_csv(DATA_FOLDER + \"data_DEC24_SVD_128_5000.csv\")\n",
    "\n",
    "X, y = df_images.drop(columns=\"class\"), df_images[\"class\"]\n",
    "X_train, X_test, y_train, y_test = train_test_split(X, y, test_size=0.2, random_state=random_state, stratify=y)"
   ]
  },
  {
   "cell_type": "markdown",
   "metadata": {},
   "source": [
    "https://scikit-learn.org/stable/modules/generated/sklearn.svm.SVC.html"
   ]
  },
  {
   "cell_type": "code",
   "execution_count": 13,
   "metadata": {},
   "outputs": [],
   "source": [
    "# можно сделать, например, как-то так"
   ]
  },
  {
   "cell_type": "code",
   "execution_count": null,
   "metadata": {},
   "outputs": [
    {
     "name": "stdout",
     "output_type": "stream",
     "text": [
      "{'clf__C': 1, 'clf__kernel': 'rbf', 'clf__tol': 0.001}\n"
     ]
    },
    {
     "data": {
      "text/plain": [
       "(np.float64(0.62188448),\n",
       " np.float64(0.61835002),\n",
       " np.float64(0.67660542),\n",
       " np.float64(0.35321084))"
      ]
     },
     "execution_count": 20,
     "metadata": {},
     "output_type": "execute_result"
    }
   ],
   "source": [
    "NonLinearSVC = Pipeline([\n",
    "    ('scaler', MinMaxScaler()),\n",
    "    ('clf', SVC(kernel = 'rbf', random_state=random_state))\n",
    "])\n",
    "\n",
    "param_grid = {\n",
    "    'clf__kernel' : ['rbf'],  # да, 1 вариант\n",
    "    'clf__C': [0.5, 1, 2, 5],\n",
    "    'clf__tol': [1e-3, 1e-2],\n",
    "}\n",
    "\n",
    "grid_search = GridSearchCV(NonLinearSVC, param_grid, cv=5)\n",
    "\n",
    "grid_search.fit(X_train, y_train)\n",
    "\n",
    "print(grid_search.best_params_)\n",
    "model = grid_search.best_estimator_\n",
    "\n",
    "\n",
    "y_pred_SVC = model.predict(X_test)\n",
    "\n",
    "# [\"model_name\", \"params\", \"sample_size\", \"sample_method\", \"balanced_accuracy\", \"f1-score\", \"roc_auc\", \"gini\"] -- logging cols\n",
    "get_metrics(y_pred_SVC, y_test, returns=True)"
   ]
  },
  {
   "cell_type": "code",
   "execution_count": null,
   "metadata": {},
   "outputs": [],
   "source": [
    "# доставать параметры ещё можно как-то так\n",
    "# NonLinearSVC.get_params(deep=True)"
   ]
  },
  {
   "cell_type": "code",
   "execution_count": null,
   "metadata": {},
   "outputs": [],
   "source": [
    "plot_confusion_matrixes(best_model_1, best_model_2, X_test, y_test)"
   ]
  },
  {
   "cell_type": "markdown",
   "metadata": {},
   "source": [
    "### Выводы\n",
    "\n",
    "\n",
    "...."
   ]
  },
  {
   "cell_type": "markdown",
   "metadata": {},
   "source": [
    "# Равномерная по классам выборка\n",
    "Равная выборка + Без подбора параметров"
   ]
  },
  {
   "cell_type": "code",
   "execution_count": 22,
   "metadata": {},
   "outputs": [
    {
     "name": "stdout",
     "output_type": "stream",
     "text": [
      "Размер выборки: 5001\n"
     ]
    }
   ],
   "source": [
    "SAMPLE_METHOD = \"equal\"\n",
    "\n",
    "df_images = pd.read_csv(DATA_FOLDER + \"data_FEB25_SVD_eq_sample_128_5000.csv\")\n",
    "print(f\"Размер выборки: {df_images.shape[0]}\")\n",
    "\n",
    "X, y = df_images.drop(columns=\"class\"), df_images[\"class\"]"
   ]
  },
  {
   "cell_type": "code",
   "execution_count": 23,
   "metadata": {},
   "outputs": [
    {
     "data": {
      "image/png": "[encoded data removed]",
      "text/plain": [
       "<Figure size 500x300 with 1 Axes>"
      ]
     },
     "metadata": {},
     "output_type": "display_data"
    }
   ],
   "source": [
    "plt.figure(figsize = (5, 3))\n",
    "sns.countplot(x=y, hue=y, legend=False, palette='crest', width=0.4,)\n",
    "plt.title(\"Расределение классов\")\n",
    "plt.ylabel(\"Кол-во\");"
   ]
  },
  {
   "cell_type": "code",
   "execution_count": 24,
   "metadata": {},
   "outputs": [],
   "source": [
    "X_train, X_test, y_train, y_test = train_test_split(X, y, test_size=0.2, random_state=random_state, stratify=y)"
   ]
  },
  {
   "cell_type": "markdown",
   "metadata": {},
   "source": [
    "## Models & Compare Models"
   ]
  },
  {
   "cell_type": "code",
   "execution_count": 25,
   "metadata": {},
   "outputs": [],
   "source": [
    "NonLinearSVC = Pipeline([\n",
    "    ('scaler', MinMaxScaler()),\n",
    "    ('clf', SVC(kernel = 'rbf', random_state=random_state))\n",
    "])\n",
    "\n",
    "NonLinearSVC.fit(X_train, y_train)\n",
    "\n",
    "y_pred_SVC = NonLinearSVC.predict(X_test)"
   ]
  },
  {
   "cell_type": "code",
   "execution_count": 26,
   "metadata": {},
   "outputs": [],
   "source": [
    "new_row = [\"NonLinearSVC\", \"kernel = 'rbf'\", SAMPLE_SIZE, SAMPLE_METHOD, *get_metrics(y_pred_SVC, y_test, returns=True)]\n",
    "exp_logs = add_new_exp(exp_logs, new_row)"
   ]
  },
  {
   "cell_type": "code",
   "execution_count": 27,
   "metadata": {},
   "outputs": [],
   "source": [
    "rfc = Pipeline([\n",
    "    ('scaler', MinMaxScaler()),\n",
    "    ('clf', RandomForestClassifier(random_state=random_state))\n",
    "])\n",
    "\n",
    "rfc.fit(X_train, y_train)\n",
    "\n",
    "y_pred_RFC = rfc.predict(X_test)"
   ]
  },
  {
   "cell_type": "code",
   "execution_count": 28,
   "metadata": {},
   "outputs": [],
   "source": [
    "new_row = [\"Random Forest\", \"\", SAMPLE_SIZE, SAMPLE_METHOD, *get_metrics(y_pred_RFC, y_test, returns=True)]\n",
    "exp_logs = add_new_exp(exp_logs, new_row)"
   ]
  },
  {
   "cell_type": "code",
   "execution_count": 29,
   "metadata": {},
   "outputs": [
    {
     "name": "stdout",
     "output_type": "stream",
     "text": [
      "Модели без подбора параметров:\n"
     ]
    },
    {
     "data": {
      "text/html": [
       "<div>\n",
       "<style scoped>\n",
       "    .dataframe tbody tr th:only-of-type {\n",
       "        vertical-align: middle;\n",
       "    }\n",
       "\n",
       "    .dataframe tbody tr th {\n",
       "        vertical-align: top;\n",
       "    }\n",
       "\n",
       "    .dataframe thead th {\n",
       "        text-align: right;\n",
       "    }\n",
       "</style>\n",
       "<table border=\"1\" class=\"dataframe\">\n",
       "  <thead>\n",
       "    <tr style=\"text-align: right;\">\n",
       "      <th></th>\n",
       "      <th>model_name</th>\n",
       "      <th>params</th>\n",
       "      <th>sample_size</th>\n",
       "      <th>sample_method</th>\n",
       "      <th>balanced_accuracy</th>\n",
       "      <th>f1-score</th>\n",
       "      <th>roc_auc</th>\n",
       "      <th>gini</th>\n",
       "    </tr>\n",
       "  </thead>\n",
       "  <tbody>\n",
       "    <tr>\n",
       "      <th>0</th>\n",
       "      <td>NonLinearSVC</td>\n",
       "      <td>kernel = 'rbf'</td>\n",
       "      <td>5000</td>\n",
       "      <td>representative</td>\n",
       "      <td>0.621884</td>\n",
       "      <td>0.61835</td>\n",
       "      <td>0.676605</td>\n",
       "      <td>0.353211</td>\n",
       "    </tr>\n",
       "    <tr>\n",
       "      <th>1</th>\n",
       "      <td>Random Forest</td>\n",
       "      <td></td>\n",
       "      <td>5000</td>\n",
       "      <td>representative</td>\n",
       "      <td>0.561821</td>\n",
       "      <td>0.567647</td>\n",
       "      <td>0.610826</td>\n",
       "      <td>0.221651</td>\n",
       "    </tr>\n",
       "    <tr>\n",
       "      <th>2</th>\n",
       "      <td>NonLinearSVC</td>\n",
       "      <td>kernel = 'rbf'</td>\n",
       "      <td>5000</td>\n",
       "      <td>equal</td>\n",
       "      <td>0.584179</td>\n",
       "      <td>0.593288</td>\n",
       "      <td>0.692128</td>\n",
       "      <td>0.384255</td>\n",
       "    </tr>\n",
       "    <tr>\n",
       "      <th>3</th>\n",
       "      <td>Random Forest</td>\n",
       "      <td></td>\n",
       "      <td>5000</td>\n",
       "      <td>equal</td>\n",
       "      <td>0.548633</td>\n",
       "      <td>0.576161</td>\n",
       "      <td>0.6734</td>\n",
       "      <td>0.346799</td>\n",
       "    </tr>\n",
       "  </tbody>\n",
       "</table>\n",
       "</div>"
      ],
      "text/plain": [
       "      model_name          params sample_size   sample_method  \\\n",
       "0   NonLinearSVC  kernel = 'rbf'        5000  representative   \n",
       "1  Random Forest                        5000  representative   \n",
       "2   NonLinearSVC  kernel = 'rbf'        5000           equal   \n",
       "3  Random Forest                        5000           equal   \n",
       "\n",
       "  balanced_accuracy  f1-score   roc_auc      gini  \n",
       "0          0.621884   0.61835  0.676605  0.353211  \n",
       "1          0.561821  0.567647  0.610826  0.221651  \n",
       "2          0.584179  0.593288  0.692128  0.384255  \n",
       "3          0.548633  0.576161    0.6734  0.346799  "
      ]
     },
     "execution_count": 29,
     "metadata": {},
     "output_type": "execute_result"
    }
   ],
   "source": [
    "print(\"Модели без подбора параметров:\")\n",
    "exp_logs[(exp_logs.params == \"\") | (exp_logs.params == \"kernel = 'rbf'\")]"
   ]
  },
  {
   "cell_type": "code",
   "execution_count": 30,
   "metadata": {},
   "outputs": [
    {
     "data": {
      "image/png": "[encoded data removed]",
      "text/plain": [
       "<Figure size 1400x400 with 4 Axes>"
      ]
     },
     "metadata": {},
     "output_type": "display_data"
    }
   ],
   "source": [
    "plot_confusion_matrixes(NonLinearSVC, rfc, X_test, y_test)"
   ]
  },
  {
   "cell_type": "markdown",
   "metadata": {},
   "source": [
    "#### Прикладные выводы\n",
    "* Метод опорных векторов справился немного лучше, чем случайный лес без подбора параметров\n",
    "* При равной выборке модели лучше определяют пневмонию, потому что в прошлый раз она была недопредставлена.\n",
    "\n",
    "\n",
    "#### Новые концептуальные выводы\n",
    "* В нашем случае брать равную выборку `оказалось скорее удачным решением`. В пропорциональной выборке было моделям сложнее всего определять пневмонию/пристуствие bbox-ов\n",
    "* Зато такие модели плохо определяют наличие других патологий.\n",
    "\n",
    "#### Возникшие гипотезы\n",
    "* Было показвно, что модели могут иметь проблемы с определением пневмонии и других заболеваний. А случаи нормы определяются легко. **Возможно, стоит недопредставлять нормальные случаи, если мы обучаемся на выборке.**"
   ]
  },
  {
   "cell_type": "markdown",
   "metadata": {},
   "source": [
    "## Ещё эксперименты по подбору параметров\n",
    "Равная выборка + Подбор параметров\n",
    "\n",
    "`[TO DO]`\n",
    "\n",
    "`Скорее всего получится, что смысла особо подбирать параметры нет`\n",
    "\n",
    "Сделать тоже самое, но с другой выборкой"
   ]
  },
  {
   "cell_type": "code",
   "execution_count": null,
   "metadata": {},
   "outputs": [],
   "source": []
  },
  {
   "cell_type": "code",
   "execution_count": null,
   "metadata": {},
   "outputs": [],
   "source": []
  },
  {
   "cell_type": "code",
   "execution_count": null,
   "metadata": {},
   "outputs": [],
   "source": []
  },
  {
   "cell_type": "markdown",
   "metadata": {},
   "source": [
    "## Эксперименты с новыми алгоритмами\n",
    "\n",
    "Про что рассказали на ML, то попробуем. Ансамбли."
   ]
  },
  {
   "cell_type": "code",
   "execution_count": null,
   "metadata": {},
   "outputs": [],
   "source": []
  },
  {
   "cell_type": "code",
   "execution_count": null,
   "metadata": {},
   "outputs": [],
   "source": []
  },
  {
   "cell_type": "code",
   "execution_count": null,
   "metadata": {},
   "outputs": [],
   "source": []
  }
 ],
 "metadata": {
  "kernelspec": {
   "display_name": "base",
   "language": "python",
   "name": "python3"
  },
  "language_info": {
   "codemirror_mode": {
    "name": "ipython",
    "version": 3
   },
   "file_extension": ".py",
   "mimetype": "text/x-python",
   "name": "python",
   "nbconvert_exporter": "python",
   "pygments_lexer": "ipython3",
   "version": "3.12.4"
  }
 },
 "nbformat": 4,
 "nbformat_minor": 2
}
